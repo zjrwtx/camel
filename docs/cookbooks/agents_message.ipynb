{
  "cells": [
    {
      "cell_type": "markdown",
      "metadata": {
        "id": "w5_pa5kKPzAE"
      },
      "source": [
        "# Message Cookbook"
      ]
    },
    {
      "cell_type": "markdown",
      "metadata": {
        "id": "1tGC1kVjPNX9"
      },
      "source": [
        "You can also check this cookbook in colab [here](https://colab.research.google.com/drive/1qyi4bnAbnYink-FKaAlJG9OipyEWXEsT?usp=sharing)"
      ]
    },
    {
      "cell_type": "markdown",
      "metadata": {
        "id": "lSXa_rQQQzBd"
      },
      "source": [
        "## Overview"
      ]
    },
    {
      "cell_type": "markdown",
      "metadata": {
        "id": "OnmoAw2vQG8I"
      },
      "source": [
        "In this tutorial, we will explore the `BaseMessage` class. The topics covered include:\n",
        "\n",
        "1. Introduction to the `BaseMessage` class.\n",
        "2. Creating a `BaseMessage` instance.\n",
        "3. Understanding the properties of the `BaseMessage` class.\n",
        "4. Using the methods of the `BaseMessage` class.\n",
        "5. Give message to `ChatAgent`"
      ]
    },
    {
      "cell_type": "markdown",
      "metadata": {
        "id": "l4MP9uUNQ2kr"
      },
      "source": [
        "## Introduction\n",
        "\n"
      ]
    },
    {
      "cell_type": "markdown",
      "metadata": {
        "id": "aYzY4OM6F3ay"
      },
      "source": [
        "The `BaseMessage` class is the base class for message objects used in the CAMEL chat system. It is designed to provide a consistent structure for the messages in the system and allow for easy conversion between different message types."
      ]
    },
    {
      "cell_type": "markdown",
      "metadata": {
        "id": "kETDiaP2Rrdb"
      },
      "source": [
        "### Installation"
      ]
    },
    {
      "cell_type": "markdown",
      "metadata": {
        "id": "Cg96MkbcRtQR"
      },
      "source": [
        "Ensure you have CAMEL AI installed in your Python environment:"
      ]
    },
    {
      "cell_type": "code",
      "execution_count": null,
      "metadata": {
        "id": "ZVmDAK6MPefC"
      },
      "outputs": [],
      "source": [
        "!pip install \"camel-ai==0.2.9\""
      ]
    },
    {
      "cell_type": "markdown",
      "metadata": {
        "id": "MyTTCe3IR_Lr"
      },
      "source": [
        "### Setting Up API Keys"
      ]
    },
    {
      "cell_type": "markdown",
      "metadata": {
        "id": "REqzgGL9SEaD"
      },
      "source": [
        "You'll need to set up your API keys for OpenAI."
      ]
    },
    {
      "cell_type": "code",
      "execution_count": 1,
      "metadata": {
        "colab": {
          "base_uri": "https://localhost:8080/"
        },
        "id": "PNBFEXc-R-0s",
        "outputId": "3efcae2c-a001-4098-a78f-bb8fb611925f"
      },
      "outputs": [],
      "source": [
        "import os\n",
        "from getpass import getpass\n",
        "\n",
        "# Prompt for the API key securely\n",
        "openai_api_key = getpass('Enter your API key: ')\n",
        "os.environ[\"OPENAI_API_KEY\"] = openai_api_key"
      ]
    },
    {
      "cell_type": "markdown",
      "metadata": {
        "id": "_9RKJHGBXvfd"
      },
      "source": [
        "## Give message to `ChatAgent` directly\n",
        "You can simply pass text message to `ChatAgent`"
      ]
    },
    {
      "cell_type": "code",
      "execution_count": 2,
      "metadata": {
        "colab": {
          "base_uri": "https://localhost:8080/"
        },
        "id": "DKcOX661Xvfd",
        "outputId": "aacee56c-7f1e-4220-d98d-f08baeaabb0d"
      },
      "outputs": [
        {
          "name": "stdout",
          "output_type": "stream",
          "text": [
            "Of course, I'm here to help. How can I assist you today?\n"
          ]
        }
      ],
      "source": [
        "from camel.agents import ChatAgent\n",
        "\n",
        "# Define system message\n",
        "sys_msg = \"You are a helpful assistant.\"\n",
        "\n",
        "# Set agent\n",
        "camel_agent = ChatAgent(system_message=sys_msg)\n",
        "\n",
        "# Set user message\n",
        "user_msg = \"\"\"你好\"\"\"\n",
        "\n",
        "# Get response information\n",
        "response = camel_agent.step(user_msg)\n",
        "print(response.msgs[0].content)"
      ]
    },
    {
      "cell_type": "markdown",
      "metadata": {
        "id": "X5scuZsGYGS9"
      },
      "source": [
        "## Give message to `ChatAgent` via `BaseMessage`\n",
        "\n",
        "For more complex message usage like mulit-modal message, we suggest using `BaseMessage`"
      ]
    },
    {
      "cell_type": "markdown",
      "metadata": {
        "id": "LRojeqp7dP1m"
      },
      "source": [
        "### Creating a `BaseMessage` Instance"
      ]
    },
    {
      "cell_type": "markdown",
      "metadata": {
        "id": "_sJV9GFldTBh"
      },
      "source": [
        "To create a `BaseMessage` instance, you need to provide the following arguments:\n",
        "\n",
        "- `role_name`: The name of the user or assistant role.\n",
        "- `role_type`: The type of role, either `RoleType.ASSISTANT` or `RoleType.USER`.\n",
        "- `content`: The content of the message.\n",
        "- `meta_dict`: An metadata dictionary for the message.\n",
        "\n",
        "Below are optional arguments you can pass:\n",
        "\n",
        "- `video_bytes`: Optional bytes of a video associated with the message.\n",
        "- `image_list`: Optional list of PIL Image objects associated with the message.\n",
        "- `image_detail`: Detail level of the images associated with the message. Default is \"auto\".\n",
        "- `video_detail`: Detail level of the videos associated with the message. Default is \"low\".\n",
        "\n",
        "Here's an example of creating a `BaseMessage` instance:"
      ]
    },
    {
      "cell_type": "code",
      "execution_count": 3,
      "metadata": {
        "id": "pAdDeN7DdUgr"
      },
      "outputs": [],
      "source": [
        "from camel.messages import BaseMessage\n",
        "from camel.types import RoleType\n",
        "\n",
        "message = BaseMessage(\n",
        "    role_name=\"test_user\",\n",
        "    role_type=RoleType.USER,\n",
        "    content=\"test content\",\n",
        "    meta_dict={}\n",
        ")"
      ]
    },
    {
      "cell_type": "markdown",
      "metadata": {
        "id": "MBx8Pje9ETAL"
      },
      "source": [
        "Additionally, the BaseMessage class provides class methods to easily create user and assistant agent messages:\n",
        "\n",
        "1. Creating a user agent message:"
      ]
    },
    {
      "cell_type": "code",
      "execution_count": 4,
      "metadata": {
        "id": "pEiFYV-yez5j"
      },
      "outputs": [],
      "source": [
        "from camel.messages import BaseMessage\n",
        "\n",
        "user_message = BaseMessage.make_user_message(\n",
        "    role_name=\"user_name\",\n",
        "    content=\"test content for user\",\n",
        ")"
      ]
    },
    {
      "cell_type": "markdown",
      "metadata": {
        "id": "PCqjf_fWEdLD"
      },
      "source": [
        "2. Creating an assistant agent message:"
      ]
    },
    {
      "cell_type": "code",
      "execution_count": 5,
      "metadata": {
        "id": "iIWWSfSpEf2n"
      },
      "outputs": [],
      "source": [
        "from camel.messages import BaseMessage\n",
        "\n",
        "assistant_message = BaseMessage.make_assistant_message(\n",
        "    role_name=\"assistant_name\",\n",
        "    content=\"test content for assistant\",\n",
        ")"
      ]
    },
    {
      "cell_type": "markdown",
      "metadata": {
        "id": "yR5ZYr5yEkLL"
      },
      "source": [
        "## Using the Methods of the `BaseMessage` Class"
      ]
    },
    {
      "cell_type": "markdown",
      "metadata": {
        "id": "Gfc6WNUOEktw"
      },
      "source": [
        "The `BaseMessage` class offers several methods:\n",
        "\n",
        "1. Creating a new instance with updated content:"
      ]
    },
    {
      "cell_type": "code",
      "execution_count": 6,
      "metadata": {
        "colab": {
          "base_uri": "https://localhost:8080/"
        },
        "id": "P7UjCsb-Emsk",
        "outputId": "077116bd-3b9f-4fe0-e605-1d2b8814eaa1"
      },
      "outputs": [
        {
          "name": "stdout",
          "output_type": "stream",
          "text": [
            "True\n"
          ]
        }
      ],
      "source": [
        "new_message = message.create_new_instance(\"new test content\")\n",
        "print(isinstance(new_message, BaseMessage))"
      ]
    },
    {
      "cell_type": "markdown",
      "metadata": {
        "id": "412MphuYErw_"
      },
      "source": [
        "2. Converting to an `OpenAIMessage` object:"
      ]
    },
    {
      "cell_type": "code",
      "execution_count": 7,
      "metadata": {
        "colab": {
          "base_uri": "https://localhost:8080/"
        },
        "id": "sS_UKtJGEsPE",
        "outputId": "bb7c150e-cbd7-42c2-b2c2-caf9180ce037"
      },
      "outputs": [
        {
          "name": "stdout",
          "output_type": "stream",
          "text": [
            "True\n"
          ]
        }
      ],
      "source": [
        "from camel.types import OpenAIBackendRole\n",
        "openai_message = message.to_openai_message(role_at_backend=OpenAIBackendRole.USER)\n",
        "print(openai_message == {\"role\": \"user\", \"content\": \"test content\"})"
      ]
    },
    {
      "cell_type": "markdown",
      "metadata": {
        "id": "TIpjz3G2E5dy"
      },
      "source": [
        "3. Converting to an `OpenAISystemMessage` object:"
      ]
    },
    {
      "cell_type": "code",
      "execution_count": null,
      "metadata": {
        "colab": {
          "base_uri": "https://localhost:8080/"
        },
        "id": "Ur4u2HdIE5ua",
        "outputId": "9713ccbf-d59c-4853-f889-6fbd80ca332b"
      },
      "outputs": [],
      "source": [
        "openai_system_message = message.to_openai_system_message()\n",
        "print(openai_system_message == {\"role\": \"system\", \"content\": \"test content\"})"
      ]
    },
    {
      "cell_type": "markdown",
      "metadata": {
        "id": "523x8XqLE8Qo"
      },
      "source": [
        "4. Converting to an `OpenAIUserMessage` object:"
      ]
    },
    {
      "cell_type": "code",
      "execution_count": 8,
      "metadata": {
        "colab": {
          "base_uri": "https://localhost:8080/"
        },
        "id": "mRCa7soNE9um",
        "outputId": "a140ffa4-fa5c-406c-b25c-d980ba95a6dc"
      },
      "outputs": [
        {
          "name": "stdout",
          "output_type": "stream",
          "text": [
            "True\n"
          ]
        }
      ],
      "source": [
        "openai_user_message = message.to_openai_user_message()\n",
        "print(openai_user_message == {\"role\": \"user\", \"content\": \"test content\"})"
      ]
    },
    {
      "cell_type": "markdown",
      "metadata": {
        "id": "TURczNJNFA3J"
      },
      "source": [
        "5. Converting to an `OpenAIAssistantMessage` object:"
      ]
    },
    {
      "cell_type": "code",
      "execution_count": 9,
      "metadata": {
        "colab": {
          "base_uri": "https://localhost:8080/"
        },
        "id": "5FnnmlRuFCtW",
        "outputId": "5748029e-e87d-4872-b859-798bfb68f3b8"
      },
      "outputs": [
        {
          "name": "stdout",
          "output_type": "stream",
          "text": [
            "True\n"
          ]
        }
      ],
      "source": [
        "openai_assistant_message = message.to_openai_assistant_message()\n",
        "print(openai_assistant_message == {\"role\": \"assistant\", \"content\": \"test content\"})"
      ]
    },
    {
      "cell_type": "markdown",
      "metadata": {
        "id": "eRhObgkxFFUi"
      },
      "source": [
        "6. Converting to a dictionary:"
      ]
    },
    {
      "cell_type": "code",
      "execution_count": 10,
      "metadata": {
        "colab": {
          "base_uri": "https://localhost:8080/"
        },
        "id": "OQouave-FG15",
        "outputId": "e6c75309-98dd-45b7-dcd4-31ad79ba4ccf"
      },
      "outputs": [
        {
          "name": "stdout",
          "output_type": "stream",
          "text": [
            "True\n"
          ]
        }
      ],
      "source": [
        "message_dict = message.to_dict()\n",
        "print(message_dict == {\n",
        "    \"role_name\": \"test_user\",\n",
        "    \"role_type\": \"USER\",\n",
        "    \"content\": \"test content\"\n",
        "})"
      ]
    },
    {
      "cell_type": "markdown",
      "metadata": {
        "id": "seSeG3KAHbLI"
      },
      "source": [
        "These methods allow you to convert a `BaseMessage` instance into different message types depending on your needs."
      ]
    },
    {
      "cell_type": "markdown",
      "metadata": {
        "id": "kAyagBo0GusE"
      },
      "source": [
        "## Give `BaseMessage` to `ChatAgent`"
      ]
    },
    {
      "cell_type": "code",
      "execution_count": 11,
      "metadata": {
        "colab": {
          "base_uri": "https://localhost:8080/"
        },
        "id": "nbr7nIKxGz07",
        "outputId": "18d99774-b808-4f59-bca4-37606e075ed3"
      },
      "outputs": [
        {
          "name": "stdout",
          "output_type": "stream",
          "text": [
            "The image depicts a detailed illustration of a cat sitting on a windowsill, gazing outside. The cat appears to be curious and attentive, with its ears perked up and eyes wide open. The room interior is cozy, with a warm ambiance created by soft lighting and homey decor. The window shows a view of a serene outdoor scene, possibly a garden or a quiet street. The image captures a peaceful and content atmosphere, with the cat as the central figure, symbolizing a sense of calm and curiosity.\n"
          ]
        }
      ],
      "source": [
        "from io import BytesIO\n",
        "\n",
        "import requests\n",
        "from PIL import Image\n",
        "\n",
        "from camel.agents import ChatAgent\n",
        "from camel.messages import BaseMessage\n",
        "# URL of the image\n",
        "url = \"https://raw.githubusercontent.com/camel-ai/camel/master/misc/logo_light.png\"\n",
        "response = requests.get(url)\n",
        "img = Image.open(BytesIO(response.content))\n",
        "\n",
        "# Define system message\n",
        "sys_msg = BaseMessage.make_assistant_message(\n",
        "    role_name=\"Assistant\",\n",
        "    content=\"You are a helpful assistant.\",\n",
        ")\n",
        "\n",
        "# Set agent\n",
        "camel_agent = ChatAgent(system_message=sys_msg)\n",
        "\n",
        "# Set user message\n",
        "user_msg = BaseMessage.make_user_message(\n",
        "    role_name=\"User\", content=\"\"\"what's in the image?\"\"\", image_list=[img]\n",
        ")\n",
        "\n",
        "# Get response information\n",
        "response = camel_agent.step(user_msg)\n",
        "print(response.msgs[0].content)"
      ]
    },
    {
      "cell_type": "markdown",
      "metadata": {
        "id": "HYNA7G06FJRq"
      },
      "source": [
        "In this session, we introduced the `BaseMessage` class and its conversion to different types of messages. These components play essential roles in the CAMEL chat system, facilitating the creation, management, and interpretation of messages with clarity."
      ]
    }
  ],
  "metadata": {
    "colab": {
      "provenance": []
    },
    "kernelspec": {
      "display_name": "Python 3",
      "name": "python3"
    },
    "language_info": {
      "codemirror_mode": {
        "name": "ipython",
        "version": 3
      },
      "file_extension": ".py",
      "mimetype": "text/x-python",
      "name": "python",
      "nbconvert_exporter": "python",
      "pygments_lexer": "ipython3",
      "version": "3.11.5"
    }
  },
  "nbformat": 4,
  "nbformat_minor": 0
}
